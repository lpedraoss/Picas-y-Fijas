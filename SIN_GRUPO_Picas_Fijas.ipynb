{
  "nbformat": 4,
  "nbformat_minor": 0,
  "metadata": {
    "colab": {
      "provenance": []
    },
    "kernelspec": {
      "name": "python3",
      "display_name": "Python 3"
    },
    "language_info": {
      "name": "python"
    }
  },
  "cells": [
    {
      "cell_type": "markdown",
      "source": [
        "##PICAS Y FIJAS"
      ],
      "metadata": {
        "id": "YHOumTAfqFNB"
      }
    },
    {
      "cell_type": "markdown",
      "source": [
        "PARA ESTE **PROYECTO** SE AGRUPÓ CON:\n",
        "*   **Luis Alfonso Pedraos Suarez**\n",
        "*   **Nicolas Molano Baron**\n",
        "\n",
        "\n"
      ],
      "metadata": {
        "id": "u0L5cMGTpfyH"
      }
    },
    {
      "cell_type": "code",
      "source": [
        "import random\n",
        "import itertools\n",
        "\n",
        "class AgentPick:\n",
        "    \"\"\"\n",
        "    AgentPick\n",
        "    ------------\n",
        "    Agente Inteligente para picas y fijas\n",
        "    Grupo: Sin grupo\n",
        "\n",
        "    \"\"\"\n",
        "    def __init__(self):\n",
        "        self.intentos = 0\n",
        "        self.ultimo_intento = None\n",
        "        self.numeros_intentados = set()\n",
        "        self.resultados = {\n",
        "            'fijas': [None] * 4,  # None indica que la posición aún no se ha determinado\n",
        "            'picas': set()  # Set de dígitos que son picas\n",
        "        }\n",
        "        self.posiciones_picas = {digit: set(range(4)) for digit in '0123456789'}  # Posibles posiciones para cada dígito\n",
        "        self.digitos_excluidos = set()\n",
        "\n",
        "    def generar_numero_aleatorio(self):\n",
        "        while True:\n",
        "            numero = ''.join(random.sample([digit for digit in '0123456789' if digit not in self.digitos_excluidos], 4))\n",
        "            if numero not in self.numeros_intentados:\n",
        "                self.numeros_intentados.add(numero)\n",
        "                return numero\n",
        "\n",
        "    def adivinar_numero(self):\n",
        "        numero_secreto = self.generar_numero_aleatorio()\n",
        "        self.intentos += 1\n",
        "        print(\"Intento {}: {}\".format(self.intentos, numero_secreto))\n",
        "        self.ultimo_intento = numero_secreto\n",
        "        return numero_secreto\n",
        "\n",
        "    def verificar_picas_fijas(self, picas, fijas):\n",
        "        intento_lista = list(self.ultimo_intento)\n",
        "        posibles_numeros = []\n",
        "\n",
        "        # Probar con las fijas conocidas\n",
        "        for i in range(4):\n",
        "            if self.resultados['fijas'][i] is not None:\n",
        "                intento_lista[i] = self.resultados['fijas'][i]\n",
        "\n",
        "        # Generar posibles combinaciones para las posiciones restantes\n",
        "        posiciones_restantes = [i for i in range(4) if self.resultados['fijas'][i] is None]\n",
        "        posibles_digitos = [digit for digit in '0123456789' if digit not in intento_lista and digit not in self.digitos_excluidos]\n",
        "\n",
        "        for combinacion in itertools.permutations(posibles_digitos, len(posiciones_restantes)):\n",
        "            intento_copia = intento_lista[:]\n",
        "            for i, pos in enumerate(posiciones_restantes):\n",
        "                intento_copia[pos] = combinacion[i]\n",
        "            posible_numero = ''.join(intento_copia)\n",
        "            if posible_numero not in self.numeros_intentados:\n",
        "                posibles_numeros.append(posible_numero)\n",
        "\n",
        "        if posibles_numeros:\n",
        "            intento_nuevo = posibles_numeros[0]\n",
        "        else:\n",
        "            intento_nuevo = self.generar_numero_aleatorio()\n",
        "\n",
        "        self.numeros_intentados.add(intento_nuevo)\n",
        "        return intento_nuevo\n",
        "\n",
        "    def actualizar_resultados(self, intento, picas, fijas):\n",
        "        if picas == 0 and fijas == 0:\n",
        "            self.digitos_excluidos.update(intento)\n",
        "        else:\n",
        "            for i, digito in enumerate(intento):\n",
        "                if self.resultados['fijas'][i] is None:\n",
        "                    if fijas > 0 and digito not in self.resultados['fijas']:\n",
        "                        self.resultados['fijas'][i] = digito\n",
        "                        fijas -= 1\n",
        "                    elif picas > 0 and digito not in self.resultados['picas']:\n",
        "                        self.resultados['picas'].add(digito)\n",
        "                        picas -= 1\n",
        "                if digito in self.resultados['fijas'] or digito in self.resultados['picas']:\n",
        "                    self.posiciones_picas[digito].discard(i)\n",
        "\n",
        "    def adivinar_recursivo(self, picas, fijas):\n",
        "        if self.ultimo_intento is None:\n",
        "            intento_agente = self.adivinar_numero()\n",
        "        else:\n",
        "            self.actualizar_resultados(self.ultimo_intento, picas, fijas)\n",
        "            intento_agente = self.verificar_picas_fijas(picas, fijas)\n",
        "            self.intentos += 1\n",
        "            print(\"Intento {}: {}\".format(self.intentos, intento_agente))\n",
        "            self.ultimo_intento = intento_agente\n",
        "\n",
        "        continuar = input(\"¿El agente ha adivinado el número? (s/n): \")\n",
        "        if continuar.lower() == 'n':\n",
        "            picas = int(input(\"Picas: \"))\n",
        "            fijas = int(input(\"Fijas: \"))\n",
        "            self.adivinar_recursivo(picas, fijas)\n",
        "        elif continuar.lower() == 's':\n",
        "            print(\"¡El agente ha adivinado tu número en {} intentos!\".format(self.intentos))\n",
        "        else:\n",
        "            print(\"Respuesta no válida. Por favor, responde 's' o 'n'.\")\n",
        "            self.adivinar_recursivo(picas, fijas)\n",
        "\n",
        "# Uso del agente\n",
        "agente = AgentPick()\n",
        "print(\"Piensa en un número de 4 dígitos.\")\n",
        "input(\"Cuando estés listo, presiona Enter para que el agente comience a adivinar...\")\n",
        "# Primer intento del agente\n",
        "primer_intento = agente.adivinar_numero()\n",
        "# Solicitar picas y fijas del primer intento\n",
        "picas = int(input(\"Picas del primer intento: \"))\n",
        "fijas = int(input(\"Fijas del primer intento: \"))\n",
        "# Continuar adivinando\n",
        "agente.adivinar_recursivo(picas, fijas)\n"
      ],
      "metadata": {
        "colab": {
          "base_uri": "https://localhost:8080/"
        },
        "id": "QdrZiIoMLXTB",
        "outputId": "3957b32d-0a43-4d3e-e735-12424b1296b6"
      },
      "execution_count": null,
      "outputs": [
        {
          "output_type": "stream",
          "name": "stdout",
          "text": [
            "Piensa en un número de 4 dígitos.\n",
            "Cuando estés listo, presiona Enter para que el agente comience a adivinar...\n",
            "Intento 1: 8203\n",
            "Picas del primer intento: 0\n",
            "Fijas del primer intento: 0\n",
            "Intento 2: 1456\n",
            "¿El agente ha adivinado el número? (s/n): n\n",
            "Picas: 0\n",
            "Fijas: 3\n",
            "Intento 3: 1457\n",
            "¿El agente ha adivinado el número? (s/n): s\n",
            "¡El agente ha adivinado tu número en 3 intentos!\n"
          ]
        }
      ]
    }
  ]
}