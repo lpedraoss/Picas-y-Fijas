{
  "cells": [
    {
      "cell_type": "markdown",
      "metadata": {
        "id": "YHOumTAfqFNB"
      },
      "source": [
        "##PICAS Y FIJAS"
      ]
    },
    {
      "cell_type": "markdown",
      "metadata": {
        "id": "u0L5cMGTpfyH"
      },
      "source": [
        "PARA ESTE **PROYECTO** SE AGRUPÓ CON:\n",
        "*   **Luis Alfonso Pedraos Suarez**"
      ]
    },
    {
      "cell_type": "code",
      "execution_count": 3,
      "metadata": {
        "colab": {
          "base_uri": "https://localhost:8080/"
        },
        "id": "QdrZiIoMLXTB",
        "outputId": "3957b32d-0a43-4d3e-e735-12424b1296b6"
      },
      "outputs": [
        {
          "name": "stdout",
          "output_type": "stream",
          "text": [
            "Piensa en un número de 4 dígitos.\n",
            "Intento 1: 9715\n",
            "Intento 2: 0123\n",
            "Intento 3: 0146\n",
            "Intento 4: 0427\n",
            "Intento 5: 6183\n",
            "Intento 6: 8163\n",
            "Intento 7: 8163\n",
            "¡El agente ha adivinado tu número en 7 intentos!\n"
          ]
        }
      ],
      "source": [
        "import random\n",
        "import itertools\n",
        "\n",
        "class SmartAgentPick:\n",
        "    \"\"\"\n",
        "    AgentPick\n",
        "    ------------\n",
        "    Agente Inteligente para picas y fijas\n",
        "    Grupo: Sin grupo\n",
        "\n",
        "    \"\"\"\n",
        "\n",
        "    def __init__(self):\n",
        "        self.intentos = 0\n",
        "        self.ultimo_intento = None\n",
        "        self.numeros_intentados = set()\n",
        "        self.posibles_numeros = list(itertools.permutations('0123456789', 4))\n",
        "\n",
        "    def generar_numero_aleatorio(self):\n",
        "        while True:\n",
        "            numero = ''.join(random.sample('0123456789', 4))\n",
        "            if numero not in self.numeros_intentados:\n",
        "                self.numeros_intentados.add(numero)\n",
        "                return numero\n",
        "\n",
        "    def adivinar_numero(self):\n",
        "        if self.intentos == 0:\n",
        "            numero_secreto = self.generar_numero_aleatorio()\n",
        "        else:\n",
        "            numero_secreto = self.posibles_numeros[0]\n",
        "        self.intentos += 1\n",
        "        print(\"Intento {}: {}\".format(self.intentos, ''.join(numero_secreto)))\n",
        "        self.ultimo_intento = numero_secreto\n",
        "        return ''.join(numero_secreto)\n",
        "\n",
        "    def verificar_picas_fijas(self, intento, picas, fijas):\n",
        "        nuevas_posibles = []\n",
        "        for numero in self.posibles_numeros:\n",
        "            picas_count = sum((1 for i, digit in enumerate(numero) if digit in intento and intento[i] != digit))\n",
        "            fijas_count = sum((1 for i, digit in enumerate(numero) if intento[i] == digit))\n",
        "            if picas_count == picas and fijas_count == fijas:\n",
        "                nuevas_posibles.append(numero)\n",
        "        self.posibles_numeros = nuevas_posibles\n",
        "\n",
        "    def actualizar_resultados(self, picas, fijas):\n",
        "        self.verificar_picas_fijas(self.ultimo_intento, picas, fijas)\n",
        "        \n",
        "    def adivinar_recursivo(self, picas, fijas):\n",
        "        if self.ultimo_intento is None:\n",
        "            intento_agente = self.adivinar_numero()\n",
        "        else:\n",
        "            self.actualizar_resultados(picas, fijas)\n",
        "            if self.posibles_numeros:\n",
        "                intento_agente = ''.join(self.posibles_numeros[0])\n",
        "            else:\n",
        "                intento_agente = self.generar_numero_aleatorio()\n",
        "            self.intentos += 1\n",
        "            print(\"Intento {}: {}\".format(self.intentos, intento_agente))\n",
        "            self.ultimo_intento = intento_agente\n",
        "\n",
        "        continuar = input(\"¿El agente ha adivinado el número? (s/n): \")\n",
        "        if continuar.lower() == 'n':\n",
        "            picas = int(input(\"Picas: \"))\n",
        "            fijas = int(input(\"Fijas: \"))\n",
        "            self.adivinar_recursivo(picas, fijas)\n",
        "        elif continuar.lower() == 's':\n",
        "            print(\"¡El agente ha adivinado tu número en {} intentos!\".format(self.intentos))\n",
        "        else:\n",
        "            print(\"Respuesta no válida. Por favor, responde 's' o 'n'.\")\n",
        "            self.adivinar_recursivo(picas, fijas)\n",
        "\n",
        "# Uso del agente\n",
        "agente = SmartAgentPick()\n",
        "print(\"Piensa en un número de 4 dígitos.\")\n",
        "input(\"Cuando estés listo, pre1siona Enter para que el agente comience a adivinar...\")\n",
        "# Primer intento del agente\n",
        "primer_intento = agente.adivinar_numero()\n",
        "# Solicitar picas y fijas del primer intento\n",
        "picas = int(input(\"Picas del primer intento: \"))\n",
        "fijas = int(input(\"Fijas del primer intento: \"))\n",
        "# Continuar adivinando\n",
        "agente.adivinar_recursivo(picas, fijas)\n",
        "\n"
      ]
    }
  ],
  "metadata": {
    "colab": {
      "provenance": []
    },
    "kernelspec": {
      "display_name": "Python 3",
      "name": "python3"
    },
    "language_info": {
      "codemirror_mode": {
        "name": "ipython",
        "version": 3
      },
      "file_extension": ".py",
      "mimetype": "text/x-python",
      "name": "python",
      "nbconvert_exporter": "python",
      "pygments_lexer": "ipython3",
      "version": "3.9.13"
    }
  },
  "nbformat": 4,
  "nbformat_minor": 0
}
